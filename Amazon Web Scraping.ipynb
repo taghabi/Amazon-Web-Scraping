{
 "cells": [
  {
   "cell_type": "code",
   "execution_count": 107,
   "metadata": {},
   "outputs": [],
   "source": [
    "#import libraries\n",
    "from bs4 import BeautifulSoup\n",
    "import requests\n",
    "import smtplib\n",
    "import time\n",
    "import datetime\n",
    "import csv\n",
    "import pandas as pd"
   ]
  },
  {
   "cell_type": "code",
   "execution_count": 112,
   "metadata": {},
   "outputs": [
    {
     "name": "stdout",
     "output_type": "stream",
     "text": [
      "\n",
      "            Razer Blade Charger, E EGOWAY 200W 19.5V 10.26A RC30-0238 Laptop AC Adapter Power Supply Compatible with Razer Blade 15 w/GTX1060/GTX1070/RTX2070/RTX2080 and Razer Blade Pro 17/4K Laptop\n",
      "           \n",
      "\n",
      "               $135.99\n",
      "              \n",
      "\n",
      "\n",
      "                        In Stock.\n",
      "                       \n",
      "\n",
      "\n"
     ]
    }
   ],
   "source": [
    "#connect to website\n",
    "URL = 'https://www.amazon.ca/Charger-EGOWAY-RC30-0238-Adapter-Compatible/dp/B0874D3WDK/ref=sr_1_3?dchild=1&keywords=razer+charger+200w&qid=1631393072&sr=8-3'\n",
    "headers = {\"User-Agent\": \"Mozilla/5.0 (Windows NT 10.0; Win64; x64) AppleWebKit/537.36 (KHTML, like Gecko) Chrome/93.0.4577.63 Safari/537.36\", \"Accept-Encoding\":\"gzip, deflate\", \"Accept\":\"text/html,application/xhtml+xml,application/xml;q=0.9,*/*;q=0.8\", \"DNT\":\"1\",\"Connection\":\"close\", \"Upgrade-Insecure-Requests\":\"1\"}\n",
    "\n",
    "page = requests.get(URL, headers = headers)\n",
    "\n",
    "#pull product data from amazon\n",
    "soup1 = BeautifulSoup(page.content, \"html.parser\")\n",
    "soup2 = BeautifulSoup(soup1.prettify(),\"html.parser\")\n",
    "\n",
    "#pull title and price\n",
    "title = soup2.find(id='productTitle').get_text()\n",
    "price = soup2.find(id='priceblock_ourprice').get_text()\n",
    "availability = soup2.find(id='availability').get_text()\n",
    "print(title)\n",
    "print(price)\n",
    "print(availability)"
   ]
  },
  {
   "cell_type": "code",
   "execution_count": 113,
   "metadata": {},
   "outputs": [
    {
     "name": "stdout",
     "output_type": "stream",
     "text": [
      "Razer Blade Charger, E EGOWAY 200W\n",
      "135.99\n",
      "In Stock\n"
     ]
    }
   ],
   "source": [
    "#clean the title and price\n",
    "title = title.strip()[:34]\n",
    "price = price.strip()[1:]\n",
    "availability = availability.strip()[:8]\n",
    "print(title) \n",
    "print(price)\n",
    "print(availability)"
   ]
  },
  {
   "cell_type": "code",
   "execution_count": 114,
   "metadata": {},
   "outputs": [
    {
     "name": "stdout",
     "output_type": "stream",
     "text": [
      "<class 'str'>\n",
      "<class 'str'>\n",
      "<class 'str'>\n"
     ]
    }
   ],
   "source": [
    "#check data type\n",
    "print(type(title))\n",
    "print(type(price))\n",
    "print(type(availability))"
   ]
  },
  {
   "cell_type": "code",
   "execution_count": 115,
   "metadata": {},
   "outputs": [
    {
     "name": "stdout",
     "output_type": "stream",
     "text": [
      "2021-09-11\n",
      "<class 'datetime.date'>\n"
     ]
    }
   ],
   "source": [
    "#create timestamp for today's date\n",
    "today = datetime.date.today()\n",
    "print(today)\n",
    "print(type(today))"
   ]
  },
  {
   "cell_type": "code",
   "execution_count": 116,
   "metadata": {},
   "outputs": [
    {
     "name": "stdout",
     "output_type": "stream",
     "text": [
      "<class 'list'>\n",
      "<class 'list'>\n",
      "['Razer Blade Charger, E EGOWAY 200W', '135.99', 'In Stock', datetime.date(2021, 9, 11)]\n"
     ]
    }
   ],
   "source": [
    "#change data type to list and add timestamp\n",
    "header = ['Product Title', 'Price', 'Availability','Date']\n",
    "data = [title, price, availability, today]\n",
    "print(type(header))\n",
    "print(type(data))\n",
    "print(data)"
   ]
  },
  {
   "cell_type": "code",
   "execution_count": 117,
   "metadata": {},
   "outputs": [],
   "source": [
    "#input cleaned data into csv file\n",
    "with open('AmazonData.csv', 'w', newline='', encoding='UTF8') as f:\n",
    "    writer = csv.writer(f)\n",
    "    writer.writerow(header)\n",
    "    writer.writerow(data)"
   ]
  },
  {
   "cell_type": "code",
   "execution_count": 128,
   "metadata": {},
   "outputs": [
    {
     "data": {
      "text/html": [
       "<div>\n",
       "<style scoped>\n",
       "    .dataframe tbody tr th:only-of-type {\n",
       "        vertical-align: middle;\n",
       "    }\n",
       "\n",
       "    .dataframe tbody tr th {\n",
       "        vertical-align: top;\n",
       "    }\n",
       "\n",
       "    .dataframe thead th {\n",
       "        text-align: right;\n",
       "    }\n",
       "</style>\n",
       "<table border=\"1\" class=\"dataframe\">\n",
       "  <thead>\n",
       "    <tr style=\"text-align: right;\">\n",
       "      <th></th>\n",
       "      <th>Product Title</th>\n",
       "      <th>Price</th>\n",
       "      <th>Availability</th>\n",
       "      <th>Date</th>\n",
       "    </tr>\n",
       "  </thead>\n",
       "  <tbody>\n",
       "    <tr>\n",
       "      <th>0</th>\n",
       "      <td>Razer Blade Charger, E EGOWAY 200W</td>\n",
       "      <td>135.99</td>\n",
       "      <td>In Stock</td>\n",
       "      <td>2021-09-11</td>\n",
       "    </tr>\n",
       "    <tr>\n",
       "      <th>1</th>\n",
       "      <td>Razer Blade Charger, E EGOWAY 200W</td>\n",
       "      <td>135.99</td>\n",
       "      <td>In Stock</td>\n",
       "      <td>2021-09-11</td>\n",
       "    </tr>\n",
       "    <tr>\n",
       "      <th>2</th>\n",
       "      <td>Razer Blade Charger, E EGOWAY 200W</td>\n",
       "      <td>135.99</td>\n",
       "      <td>In Stock</td>\n",
       "      <td>2021-09-11</td>\n",
       "    </tr>\n",
       "    <tr>\n",
       "      <th>3</th>\n",
       "      <td>Razer Blade Charger, E EGOWAY 200W</td>\n",
       "      <td>135.99</td>\n",
       "      <td>In Stock</td>\n",
       "      <td>2021-09-11</td>\n",
       "    </tr>\n",
       "  </tbody>\n",
       "</table>\n",
       "</div>"
      ],
      "text/plain": [
       "                        Product Title   Price Availability        Date\n",
       "0  Razer Blade Charger, E EGOWAY 200W  135.99     In Stock  2021-09-11\n",
       "1  Razer Blade Charger, E EGOWAY 200W  135.99     In Stock  2021-09-11\n",
       "2  Razer Blade Charger, E EGOWAY 200W  135.99     In Stock  2021-09-11\n",
       "3  Razer Blade Charger, E EGOWAY 200W  135.99     In Stock  2021-09-11"
      ]
     },
     "execution_count": 128,
     "metadata": {},
     "output_type": "execute_result"
    }
   ],
   "source": [
    "#preview data\n",
    "df = pd.read_csv(r'C:\\Users\\tareq\\AmazonData.csv')\n",
    "df.head()"
   ]
  },
  {
   "cell_type": "code",
   "execution_count": 122,
   "metadata": {},
   "outputs": [],
   "source": [
    "#append data to the csv file\n",
    "with open('AmazonData.csv', 'a+', newline='', encoding='UTF8') as f:\n",
    "    writer = csv.writer(f)\n",
    "    writer.writerow(data)"
   ]
  },
  {
   "cell_type": "code",
   "execution_count": 126,
   "metadata": {},
   "outputs": [],
   "source": [
    "#define function to check price daily and enter the data into the csv file\n",
    "def price_check():\n",
    "    URL = 'https://www.amazon.ca/Charger-EGOWAY-RC30-0238-Adapter-Compatible/dp/B0874D3WDK/ref=sr_1_3?dchild=1&keywords=razer+charger+200w&qid=1631393072&sr=8-3'\n",
    "    headers = {\"User-Agent\": \"Mozilla/5.0 (Windows NT 10.0; Win64; x64) AppleWebKit/537.36 (KHTML, like Gecko) Chrome/93.0.4577.63 Safari/537.36\", \"Accept-Encoding\":\"gzip, deflate\", \"Accept\":\"text/html,application/xhtml+xml,application/xml;q=0.9,*/*;q=0.8\", \"DNT\":\"1\",\"Connection\":\"close\", \"Upgrade-Insecure-Requests\":\"1\"}\n",
    "    page = requests.get(URL, headers = headers)\n",
    "    soup1 = BeautifulSoup(page.content, \"html.parser\")\n",
    "    soup2 = BeautifulSoup(soup1.prettify(),\"html.parser\")    \n",
    "    \n",
    "    title = soup2.find(id='productTitle').get_text()\n",
    "    price = soup2.find(id='priceblock_ourprice').get_text()\n",
    "    availability = soup2.find(id='availability').get_text()\n",
    "    import datetime\n",
    "    today = datetime.date.today()\n",
    "    \n",
    "    title = title.strip()[:34]\n",
    "    price = price.strip()[1:]\n",
    "    availability = availability.strip()[:8]\n",
    "    \n",
    "    header = ['Product Title', 'Price', 'Availability','Date']\n",
    "    data = [title, price, availability, today]\n",
    "    \n",
    "    import csv\n",
    "    with open('AmazonData.csv', 'a+', newline='', encoding='UTF8') as f:\n",
    "        writer = csv.writer(f)\n",
    "        writer.writerow(data)\n",
    "        "
   ]
  },
  {
   "cell_type": "code",
   "execution_count": null,
   "metadata": {},
   "outputs": [],
   "source": [
    "#pull product data daily\n",
    "while (True):\n",
    "    price_check()\n",
    "    time.sleep(86400)"
   ]
  }
 ],
 "metadata": {
  "kernelspec": {
   "display_name": "Python 3",
   "language": "python",
   "name": "python3"
  },
  "language_info": {
   "codemirror_mode": {
    "name": "ipython",
    "version": 3
   },
   "file_extension": ".py",
   "mimetype": "text/x-python",
   "name": "python",
   "nbconvert_exporter": "python",
   "pygments_lexer": "ipython3",
   "version": "3.8.5"
  }
 },
 "nbformat": 4,
 "nbformat_minor": 4
}
